{
  "nbformat": 4,
  "nbformat_minor": 0,
  "metadata": {
    "colab": {
      "name": "Numpy.ipynb",
      "provenance": [],
      "authorship_tag": "ABX9TyNDCfPPK5qWlCQnvMi5EGB+",
      "include_colab_link": true
    },
    "kernelspec": {
      "name": "python3",
      "display_name": "Python 3"
    },
    "language_info": {
      "name": "python"
    }
  },
  "cells": [
    {
      "cell_type": "markdown",
      "metadata": {
        "id": "view-in-github",
        "colab_type": "text"
      },
      "source": [
        "<a href=\"https://colab.research.google.com/github/Kirthiga2001/Numpy/blob/main/Numpy.ipynb\" target=\"_parent\"><img src=\"https://colab.research.google.com/assets/colab-badge.svg\" alt=\"Open In Colab\"/></a>"
      ]
    },
    {
      "cell_type": "code",
      "metadata": {
        "colab": {
          "base_uri": "https://localhost:8080/"
        },
        "id": "TB7ASJ5fVFYr",
        "outputId": "b5ef124d-b5eb-4c89-a883-b3488557055f"
      },
      "source": [
        "pip install numpy\n"
      ],
      "execution_count": 1,
      "outputs": [
        {
          "output_type": "stream",
          "text": [
            "Requirement already satisfied: numpy in /usr/local/lib/python3.7/dist-packages (1.19.5)\n"
          ],
          "name": "stdout"
        }
      ]
    },
    {
      "cell_type": "code",
      "metadata": {
        "id": "_bsU_E3kVK_U"
      },
      "source": [
        "import numpy as np\n"
      ],
      "execution_count": 2,
      "outputs": []
    },
    {
      "cell_type": "markdown",
      "metadata": {
        "id": "Ked_P-gbVXOw"
      },
      "source": [
        "basics functions\n",
        "\n",
        "*   np.array()-> creates a list, matrix ;\n",
        "*   np.shape(name)-> gives the size of the array(no of rows, columns)\n",
        "*   np.arange(start,stop,step)= for loop\n",
        "*   np.linspace(start,stop,no of elements needed fromstart to stop)\n",
        "*   np.logspae(start,stop,no of elements needed fromstart to stop in log scale)\n",
        "*   np.zeros(no of 0s needed)\n",
        "*   np.ones(no of 1s needed)\n",
        "*   np.random.random(no of elements need betwwen 0 and 1)\n",
        "*   np.random.randint(start,stop,range)\n",
        "\n",
        "\n",
        "\n",
        "\n",
        "\n"
      ]
    },
    {
      "cell_type": "code",
      "metadata": {
        "colab": {
          "base_uri": "https://localhost:8080/"
        },
        "id": "f2LB3O4SVuOT",
        "outputId": "6780fd4a-afb5-4a37-c139-9d80f571d90f"
      },
      "source": [
        "a=np.array([1,2,3,4])\n",
        "print(np.shape(a))"
      ],
      "execution_count": 3,
      "outputs": [
        {
          "output_type": "stream",
          "text": [
            "(4,)\n"
          ],
          "name": "stdout"
        }
      ]
    },
    {
      "cell_type": "code",
      "metadata": {
        "colab": {
          "base_uri": "https://localhost:8080/"
        },
        "id": "HYDefkBHWNId",
        "outputId": "b9aa4c7d-31bf-4cd1-aa9b-0508899d878b"
      },
      "source": [
        "a=np.array([[1,2,3,4],[1,2,3,4],[1,2,3,4],[1,2,3,4]])\n",
        "print(np.shape(a))"
      ],
      "execution_count": 7,
      "outputs": [
        {
          "output_type": "stream",
          "text": [
            "(4, 4)\n"
          ],
          "name": "stdout"
        }
      ]
    },
    {
      "cell_type": "code",
      "metadata": {
        "colab": {
          "base_uri": "https://localhost:8080/"
        },
        "id": "52YbWCDTWb0Y",
        "outputId": "cb166e44-f9c3-4d04-c8c5-330672d395cd"
      },
      "source": [
        "np.arange(10,20,2)"
      ],
      "execution_count": 11,
      "outputs": [
        {
          "output_type": "execute_result",
          "data": {
            "text/plain": [
              "array([10, 12, 14, 16, 18])"
            ]
          },
          "metadata": {},
          "execution_count": 11
        }
      ]
    },
    {
      "cell_type": "code",
      "metadata": {
        "colab": {
          "base_uri": "https://localhost:8080/"
        },
        "id": "x9rW-6yGWcB9",
        "outputId": "a698a0fe-7316-4e50-eb3b-1a40fc94bf3b"
      },
      "source": [
        "np.linspace(10,20,12)"
      ],
      "execution_count": 14,
      "outputs": [
        {
          "output_type": "execute_result",
          "data": {
            "text/plain": [
              "array([10.        , 10.90909091, 11.81818182, 12.72727273, 13.63636364,\n",
              "       14.54545455, 15.45454545, 16.36363636, 17.27272727, 18.18181818,\n",
              "       19.09090909, 20.        ])"
            ]
          },
          "metadata": {},
          "execution_count": 14
        }
      ]
    },
    {
      "cell_type": "code",
      "metadata": {
        "colab": {
          "base_uri": "https://localhost:8080/"
        },
        "id": "8HQwEiqlaUiz",
        "outputId": "0c6138d0-e2a4-436c-a689-9cfae35091a5"
      },
      "source": [
        "np.logspace(10,20,3)"
      ],
      "execution_count": 15,
      "outputs": [
        {
          "output_type": "execute_result",
          "data": {
            "text/plain": [
              "array([1.e+10, 1.e+15, 1.e+20])"
            ]
          },
          "metadata": {},
          "execution_count": 15
        }
      ]
    },
    {
      "cell_type": "code",
      "metadata": {
        "colab": {
          "base_uri": "https://localhost:8080/"
        },
        "id": "v1kjI2gyaoX4",
        "outputId": "ba63708a-3430-4ad5-bc9a-7dd16db138d7"
      },
      "source": [
        "np.zeros(10)"
      ],
      "execution_count": 16,
      "outputs": [
        {
          "output_type": "execute_result",
          "data": {
            "text/plain": [
              "array([0., 0., 0., 0., 0., 0., 0., 0., 0., 0.])"
            ]
          },
          "metadata": {},
          "execution_count": 16
        }
      ]
    },
    {
      "cell_type": "code",
      "metadata": {
        "colab": {
          "base_uri": "https://localhost:8080/"
        },
        "id": "aUMNWYAZatAg",
        "outputId": "19aa9544-8245-4b2d-9248-0368fd7868f6"
      },
      "source": [
        "np.ones(90)"
      ],
      "execution_count": 18,
      "outputs": [
        {
          "output_type": "execute_result",
          "data": {
            "text/plain": [
              "array([1., 1., 1., 1., 1., 1., 1., 1., 1., 1., 1., 1., 1., 1., 1., 1., 1.,\n",
              "       1., 1., 1., 1., 1., 1., 1., 1., 1., 1., 1., 1., 1., 1., 1., 1., 1.,\n",
              "       1., 1., 1., 1., 1., 1., 1., 1., 1., 1., 1., 1., 1., 1., 1., 1., 1.,\n",
              "       1., 1., 1., 1., 1., 1., 1., 1., 1., 1., 1., 1., 1., 1., 1., 1., 1.,\n",
              "       1., 1., 1., 1., 1., 1., 1., 1., 1., 1., 1., 1., 1., 1., 1., 1., 1.,\n",
              "       1., 1., 1., 1., 1.])"
            ]
          },
          "metadata": {},
          "execution_count": 18
        }
      ]
    },
    {
      "cell_type": "code",
      "metadata": {
        "colab": {
          "base_uri": "https://localhost:8080/"
        },
        "id": "EXyQgCEhc_A3",
        "outputId": "5d29ada1-41a3-49fc-c9c7-e0b7371c848b"
      },
      "source": [
        "np.random.random(10)"
      ],
      "execution_count": 22,
      "outputs": [
        {
          "output_type": "execute_result",
          "data": {
            "text/plain": [
              "array([0.58613125, 0.52370295, 0.04015734, 0.24912023, 0.41027577,\n",
              "       0.22688767, 0.5793587 , 0.80073271, 0.99027589, 0.3321761 ])"
            ]
          },
          "metadata": {},
          "execution_count": 22
        }
      ]
    },
    {
      "cell_type": "markdown",
      "metadata": {
        "id": "vLP0ZHzCbXLt"
      },
      "source": [
        "Operations\n",
        "* "
      ]
    },
    {
      "cell_type": "code",
      "metadata": {
        "colab": {
          "base_uri": "https://localhost:8080/"
        },
        "id": "s4EppUUHbcS2",
        "outputId": "383109d6-4426-4983-fcd4-1cb2053910c8"
      },
      "source": [
        "a=np.arange(10,20,1)\n",
        "b=np.arange(20,40,2)\n",
        "print(2*b)\n",
        "print(a*b)"
      ],
      "execution_count": 21,
      "outputs": [
        {
          "output_type": "stream",
          "text": [
            "[40 44 48 52 56 60 64 68 72 76]\n",
            "[200 242 288 338 392 450 512 578 648 722]\n"
          ],
          "name": "stdout"
        }
      ]
    },
    {
      "cell_type": "code",
      "metadata": {
        "colab": {
          "base_uri": "https://localhost:8080/"
        },
        "id": "e6qEtaC5dfZI",
        "outputId": "34b76561-b1e3-4c14-e1b3-0576087469e2"
      },
      "source": [
        "a=np.array([100,39,89,32,64,82,83,23])\n",
        "a>40\n",
        "a[a>40]"
      ],
      "execution_count": 27,
      "outputs": [
        {
          "output_type": "execute_result",
          "data": {
            "text/plain": [
              "array([100,  89,  64,  82,  83])"
            ]
          },
          "metadata": {},
          "execution_count": 27
        }
      ]
    }
  ]
}